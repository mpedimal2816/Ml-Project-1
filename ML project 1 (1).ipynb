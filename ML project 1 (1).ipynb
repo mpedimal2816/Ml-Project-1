{
 "cells": [
  {
   "cell_type": "code",
   "execution_count": 49,
   "id": "e93f5821-3f46-4b57-8091-8e56973d0742",
   "metadata": {},
   "outputs": [],
   "source": [
    "## Import the libraries\n",
    "import pandas as pd\n",
    "import matplotlib.pyplot as plt\n",
    "import seaborn as sns\n",
    "from imblearn.over_sampling import RandomOverSampler\n",
    "from imblearn.under_sampling import RandomUnderSampler\n",
    "from sklearn.preprocessing import StandardScaler\n",
    "from sklearn.ensemble import RandomForestClassifier\n",
    "from sklearn.linear_model import LogisticRegression\n",
    "from sklearn.naive_bayes import GaussianNB\n",
    "from sklearn.tree import DecisionTreeClassifier\n",
    "from sklearn.metrics import accuracy_score, precision_score, recall_score, f1_score, confusion_matrix, classification_report\n",
    "from sklearn.model_selection import train_test_split\n",
    "from sklearn.model_selection import GridSearchCV\n",
    "from sklearn.metrics import classification_report, accuracy_score"
   ]
  },
  {
   "cell_type": "markdown",
   "id": "1974ef40-d46c-4d48-94f2-1a154af16a2c",
   "metadata": {},
   "source": [
    "Data Loading"
   ]
  },
  {
   "cell_type": "code",
   "execution_count": 50,
   "id": "bc0e3d1e-7e38-4e1c-bcd1-09581156581d",
   "metadata": {},
   "outputs": [
    {
     "data": {
      "text/html": [
       "<div>\n",
       "<style scoped>\n",
       "    .dataframe tbody tr th:only-of-type {\n",
       "        vertical-align: middle;\n",
       "    }\n",
       "\n",
       "    .dataframe tbody tr th {\n",
       "        vertical-align: top;\n",
       "    }\n",
       "\n",
       "    .dataframe thead th {\n",
       "        text-align: right;\n",
       "    }\n",
       "</style>\n",
       "<table border=\"1\" class=\"dataframe\">\n",
       "  <thead>\n",
       "    <tr style=\"text-align: right;\">\n",
       "      <th></th>\n",
       "      <th>Date</th>\n",
       "      <th>Company ID</th>\n",
       "      <th>Revenue ($)</th>\n",
       "      <th>Expense ($)</th>\n",
       "      <th>Profit ($)</th>\n",
       "      <th>Market Price ($)</th>\n",
       "      <th>Volatility Index</th>\n",
       "      <th>Compliance Issue</th>\n",
       "      <th>Compliance Fine ($)</th>\n",
       "      <th>Regulatory Change</th>\n",
       "    </tr>\n",
       "  </thead>\n",
       "  <tbody>\n",
       "    <tr>\n",
       "      <th>0</th>\n",
       "      <td>2023-01-01</td>\n",
       "      <td>COMP_1</td>\n",
       "      <td>193524.66</td>\n",
       "      <td>380532.15</td>\n",
       "      <td>-187007.49</td>\n",
       "      <td>95.88</td>\n",
       "      <td>0.58</td>\n",
       "      <td>0</td>\n",
       "      <td>0.0</td>\n",
       "      <td>0</td>\n",
       "    </tr>\n",
       "    <tr>\n",
       "      <th>1</th>\n",
       "      <td>2023-01-02</td>\n",
       "      <td>COMP_1</td>\n",
       "      <td>38460.97</td>\n",
       "      <td>347139.58</td>\n",
       "      <td>-308678.61</td>\n",
       "      <td>84.10</td>\n",
       "      <td>0.67</td>\n",
       "      <td>0</td>\n",
       "      <td>0.0</td>\n",
       "      <td>0</td>\n",
       "    </tr>\n",
       "    <tr>\n",
       "      <th>2</th>\n",
       "      <td>2023-01-03</td>\n",
       "      <td>COMP_1</td>\n",
       "      <td>417896.89</td>\n",
       "      <td>88873.95</td>\n",
       "      <td>329022.94</td>\n",
       "      <td>46.36</td>\n",
       "      <td>0.25</td>\n",
       "      <td>0</td>\n",
       "      <td>0.0</td>\n",
       "      <td>0</td>\n",
       "    </tr>\n",
       "    <tr>\n",
       "      <th>3</th>\n",
       "      <td>2023-01-04</td>\n",
       "      <td>COMP_1</td>\n",
       "      <td>221653.06</td>\n",
       "      <td>120035.51</td>\n",
       "      <td>101617.55</td>\n",
       "      <td>85.07</td>\n",
       "      <td>0.21</td>\n",
       "      <td>0</td>\n",
       "      <td>0.0</td>\n",
       "      <td>0</td>\n",
       "    </tr>\n",
       "    <tr>\n",
       "      <th>4</th>\n",
       "      <td>2023-01-05</td>\n",
       "      <td>COMP_1</td>\n",
       "      <td>233474.29</td>\n",
       "      <td>315144.50</td>\n",
       "      <td>-81670.21</td>\n",
       "      <td>47.97</td>\n",
       "      <td>0.51</td>\n",
       "      <td>0</td>\n",
       "      <td>0.0</td>\n",
       "      <td>0</td>\n",
       "    </tr>\n",
       "  </tbody>\n",
       "</table>\n",
       "</div>"
      ],
      "text/plain": [
       "         Date Company ID  Revenue ($)  Expense ($)  Profit ($)  \\\n",
       "0  2023-01-01     COMP_1    193524.66    380532.15  -187007.49   \n",
       "1  2023-01-02     COMP_1     38460.97    347139.58  -308678.61   \n",
       "2  2023-01-03     COMP_1    417896.89     88873.95   329022.94   \n",
       "3  2023-01-04     COMP_1    221653.06    120035.51   101617.55   \n",
       "4  2023-01-05     COMP_1    233474.29    315144.50   -81670.21   \n",
       "\n",
       "   Market Price ($)  Volatility Index  Compliance Issue  Compliance Fine ($)  \\\n",
       "0             95.88              0.58                 0                  0.0   \n",
       "1             84.10              0.67                 0                  0.0   \n",
       "2             46.36              0.25                 0                  0.0   \n",
       "3             85.07              0.21                 0                  0.0   \n",
       "4             47.97              0.51                 0                  0.0   \n",
       "\n",
       "   Regulatory Change  \n",
       "0                  0  \n",
       "1                  0  \n",
       "2                  0  \n",
       "3                  0  \n",
       "4                  0  "
      ]
     },
     "execution_count": 50,
     "metadata": {},
     "output_type": "execute_result"
    }
   ],
   "source": [
    "# Load the data\n",
    "url = 'https://raw.githubusercontent.com/mpedimal2816/Ml-Project-1/refs/heads/main/energy_finance_dataset.csv'\n",
    "df = pd.read_csv(url)\n",
    "\n",
    "df.head()"
   ]
  },
  {
   "cell_type": "code",
   "execution_count": 51,
   "id": "2cd925c3-e67f-4da4-840d-aae496e21cd7",
   "metadata": {},
   "outputs": [
    {
     "name": "stdout",
     "output_type": "stream",
     "text": [
      "Null values in each column:\n",
      "Date                   0\n",
      "Company ID             0\n",
      "Revenue ($)            0\n",
      "Expense ($)            0\n",
      "Profit ($)             0\n",
      "Market Price ($)       0\n",
      "Volatility Index       0\n",
      "Compliance Issue       0\n",
      "Compliance Fine ($)    0\n",
      "Regulatory Change      0\n",
      "dtype: int64\n"
     ]
    }
   ],
   "source": [
    "#Check for null values\n",
    "print(\"Null values in each column:\")\n",
    "print(df.isnull().sum())"
   ]
  },
  {
   "cell_type": "code",
   "execution_count": 52,
   "id": "597be08f-22d1-41e7-a64c-39e393b5bc1b",
   "metadata": {},
   "outputs": [
    {
     "name": "stdout",
     "output_type": "stream",
     "text": [
      "\n",
      "Number of duplicate rows: 0\n"
     ]
    }
   ],
   "source": [
    "#Check for duplicates\n",
    "print(\"\\nNumber of duplicate rows:\", df.duplicated().sum())"
   ]
  },
  {
   "cell_type": "code",
   "execution_count": 53,
   "id": "c8e75f4c-73c4-4c44-849a-e75622592e7a",
   "metadata": {},
   "outputs": [
    {
     "name": "stdout",
     "output_type": "stream",
     "text": [
      "\n",
      "Statistical summary of numerical columns:\n"
     ]
    },
    {
     "data": {
      "text/html": [
       "<div>\n",
       "<style scoped>\n",
       "    .dataframe tbody tr th:only-of-type {\n",
       "        vertical-align: middle;\n",
       "    }\n",
       "\n",
       "    .dataframe tbody tr th {\n",
       "        vertical-align: top;\n",
       "    }\n",
       "\n",
       "    .dataframe thead th {\n",
       "        text-align: right;\n",
       "    }\n",
       "</style>\n",
       "<table border=\"1\" class=\"dataframe\">\n",
       "  <thead>\n",
       "    <tr style=\"text-align: right;\">\n",
       "      <th></th>\n",
       "      <th>Revenue ($)</th>\n",
       "      <th>Expense ($)</th>\n",
       "      <th>Profit ($)</th>\n",
       "      <th>Market Price ($)</th>\n",
       "      <th>Volatility Index</th>\n",
       "      <th>Compliance Issue</th>\n",
       "      <th>Compliance Fine ($)</th>\n",
       "      <th>Regulatory Change</th>\n",
       "    </tr>\n",
       "  </thead>\n",
       "  <tbody>\n",
       "    <tr>\n",
       "      <th>count</th>\n",
       "      <td>36500.000000</td>\n",
       "      <td>36500.000000</td>\n",
       "      <td>36500.000000</td>\n",
       "      <td>36500.000000</td>\n",
       "      <td>36500.000000</td>\n",
       "      <td>36500.000000</td>\n",
       "      <td>36500.000000</td>\n",
       "      <td>36500.000000</td>\n",
       "    </tr>\n",
       "    <tr>\n",
       "      <th>mean</th>\n",
       "      <td>254950.057574</td>\n",
       "      <td>202193.398470</td>\n",
       "      <td>52756.659104</td>\n",
       "      <td>75.301256</td>\n",
       "      <td>0.499155</td>\n",
       "      <td>0.100192</td>\n",
       "      <td>55.590996</td>\n",
       "      <td>0.020000</td>\n",
       "    </tr>\n",
       "    <tr>\n",
       "      <th>std</th>\n",
       "      <td>141793.666214</td>\n",
       "      <td>113991.313951</td>\n",
       "      <td>182272.996299</td>\n",
       "      <td>25.920704</td>\n",
       "      <td>0.230433</td>\n",
       "      <td>0.300260</td>\n",
       "      <td>610.575645</td>\n",
       "      <td>0.140002</td>\n",
       "    </tr>\n",
       "    <tr>\n",
       "      <th>min</th>\n",
       "      <td>10012.860000</td>\n",
       "      <td>5002.190000</td>\n",
       "      <td>-385961.030000</td>\n",
       "      <td>30.010000</td>\n",
       "      <td>0.100000</td>\n",
       "      <td>0.000000</td>\n",
       "      <td>0.000000</td>\n",
       "      <td>0.000000</td>\n",
       "    </tr>\n",
       "    <tr>\n",
       "      <th>25%</th>\n",
       "      <td>131261.547500</td>\n",
       "      <td>103791.365000</td>\n",
       "      <td>-80045.312500</td>\n",
       "      <td>52.860000</td>\n",
       "      <td>0.300000</td>\n",
       "      <td>0.000000</td>\n",
       "      <td>0.000000</td>\n",
       "      <td>0.000000</td>\n",
       "    </tr>\n",
       "    <tr>\n",
       "      <th>50%</th>\n",
       "      <td>254261.525000</td>\n",
       "      <td>201544.020000</td>\n",
       "      <td>52697.060000</td>\n",
       "      <td>75.340000</td>\n",
       "      <td>0.500000</td>\n",
       "      <td>0.000000</td>\n",
       "      <td>0.000000</td>\n",
       "      <td>0.000000</td>\n",
       "    </tr>\n",
       "    <tr>\n",
       "      <th>75%</th>\n",
       "      <td>379084.055000</td>\n",
       "      <td>300806.107500</td>\n",
       "      <td>184406.780000</td>\n",
       "      <td>97.610000</td>\n",
       "      <td>0.700000</td>\n",
       "      <td>0.000000</td>\n",
       "      <td>0.000000</td>\n",
       "      <td>0.000000</td>\n",
       "    </tr>\n",
       "    <tr>\n",
       "      <th>max</th>\n",
       "      <td>499989.840000</td>\n",
       "      <td>399996.860000</td>\n",
       "      <td>491297.700000</td>\n",
       "      <td>120.000000</td>\n",
       "      <td>0.900000</td>\n",
       "      <td>1.000000</td>\n",
       "      <td>9997.980000</td>\n",
       "      <td>1.000000</td>\n",
       "    </tr>\n",
       "  </tbody>\n",
       "</table>\n",
       "</div>"
      ],
      "text/plain": [
       "         Revenue ($)    Expense ($)     Profit ($)  Market Price ($)  \\\n",
       "count   36500.000000   36500.000000   36500.000000      36500.000000   \n",
       "mean   254950.057574  202193.398470   52756.659104         75.301256   \n",
       "std    141793.666214  113991.313951  182272.996299         25.920704   \n",
       "min     10012.860000    5002.190000 -385961.030000         30.010000   \n",
       "25%    131261.547500  103791.365000  -80045.312500         52.860000   \n",
       "50%    254261.525000  201544.020000   52697.060000         75.340000   \n",
       "75%    379084.055000  300806.107500  184406.780000         97.610000   \n",
       "max    499989.840000  399996.860000  491297.700000        120.000000   \n",
       "\n",
       "       Volatility Index  Compliance Issue  Compliance Fine ($)  \\\n",
       "count      36500.000000      36500.000000         36500.000000   \n",
       "mean           0.499155          0.100192            55.590996   \n",
       "std            0.230433          0.300260           610.575645   \n",
       "min            0.100000          0.000000             0.000000   \n",
       "25%            0.300000          0.000000             0.000000   \n",
       "50%            0.500000          0.000000             0.000000   \n",
       "75%            0.700000          0.000000             0.000000   \n",
       "max            0.900000          1.000000          9997.980000   \n",
       "\n",
       "       Regulatory Change  \n",
       "count       36500.000000  \n",
       "mean            0.020000  \n",
       "std             0.140002  \n",
       "min             0.000000  \n",
       "25%             0.000000  \n",
       "50%             0.000000  \n",
       "75%             0.000000  \n",
       "max             1.000000  "
      ]
     },
     "execution_count": 53,
     "metadata": {},
     "output_type": "execute_result"
    }
   ],
   "source": [
    "#Display basic statistics\n",
    "print(\"\\nStatistical summary of numerical columns:\")\n",
    "df.describe()"
   ]
  },
  {
   "cell_type": "code",
   "execution_count": 54,
   "id": "1986104f-11bc-4b5a-b99e-30fadad0e0a8",
   "metadata": {},
   "outputs": [
    {
     "name": "stdout",
     "output_type": "stream",
     "text": [
      "\n",
      "Additional data info:\n",
      "<class 'pandas.core.frame.DataFrame'>\n",
      "RangeIndex: 36500 entries, 0 to 36499\n",
      "Data columns (total 10 columns):\n",
      " #   Column               Non-Null Count  Dtype  \n",
      "---  ------               --------------  -----  \n",
      " 0   Date                 36500 non-null  object \n",
      " 1   Company ID           36500 non-null  object \n",
      " 2   Revenue ($)          36500 non-null  float64\n",
      " 3   Expense ($)          36500 non-null  float64\n",
      " 4   Profit ($)           36500 non-null  float64\n",
      " 5   Market Price ($)     36500 non-null  float64\n",
      " 6   Volatility Index     36500 non-null  float64\n",
      " 7   Compliance Issue     36500 non-null  int64  \n",
      " 8   Compliance Fine ($)  36500 non-null  float64\n",
      " 9   Regulatory Change    36500 non-null  int64  \n",
      "dtypes: float64(6), int64(2), object(2)\n",
      "memory usage: 2.8+ MB\n",
      "None\n"
     ]
    }
   ],
   "source": [
    "# Additional info on data types and non-null counts\n",
    "print(\"\\nAdditional data info:\")\n",
    "print(df.info())"
   ]
  },
  {
   "cell_type": "markdown",
   "id": "ea3a3bb6-4730-4df2-9fe8-bf70b4a58f88",
   "metadata": {},
   "source": [
    "Checking dataset whether it is balanced or imbalanced"
   ]
  },
  {
   "cell_type": "code",
   "execution_count": 55,
   "id": "7ae18415-e66a-4aa8-8dab-b65db3de7fa9",
   "metadata": {},
   "outputs": [
    {
     "name": "stderr",
     "output_type": "stream",
     "text": [
      "C:\\Users\\manas\\AppData\\Local\\Temp\\ipykernel_33512\\2480653957.py:6: FutureWarning: \n",
      "\n",
      "Passing `palette` without assigning `hue` is deprecated and will be removed in v0.14.0. Assign the `x` variable to `hue` and set `legend=False` for the same effect.\n",
      "\n",
      "  sns.countplot(data=df, x='Regulatory Change', palette='viridis')\n"
     ]
    },
    {
     "data": {
      "image/png": "[encoded data removed]",
      "text/plain": [
       "<Figure size 800x600 with 1 Axes>"
      ]
     },
     "metadata": {},
     "output_type": "display_data"
    }
   ],
   "source": [
    "# Set plot style\n",
    "sns.set(style=\"whitegrid\")\n",
    "\n",
    "# Plot the distribution of Regulatory Change\n",
    "plt.figure(figsize=(8, 6))\n",
    "sns.countplot(data=df, x='Regulatory Change', palette='viridis')\n",
    "\n",
    "# Add titles and labels\n",
    "plt.title('Distribution of Regulatory Change', fontsize=16)\n",
    "plt.xlabel('Regulatory Change', fontsize=14)\n",
    "plt.ylabel('Count', fontsize=14)\n",
    "\n",
    "# Show plot\n",
    "plt.show()"
   ]
  },
  {
   "cell_type": "markdown",
   "id": "f90b3e82-33ba-426e-be96-e14bf991e55d",
   "metadata": {},
   "source": [
    "Balancing the dataset using Oversampling"
   ]
  },
  {
   "cell_type": "code",
   "execution_count": 56,
   "id": "7f81f12c-5ee9-402a-b725-517d2c0e0378",
   "metadata": {},
   "outputs": [
    {
     "name": "stdout",
     "output_type": "stream",
     "text": [
      "Distribution after balancing:\n",
      "Regulatory Change\n",
      "0    35770\n",
      "1    35770\n",
      "Name: count, dtype: int64\n"
     ]
    }
   ],
   "source": [
    "# Separate features and target\n",
    "X = df.drop(columns=['Regulatory Change'])\n",
    "y = df['Regulatory Change']\n",
    "\n",
    "#Oversampling the minority class\n",
    "oversampler = RandomOverSampler(sampling_strategy='minority', random_state=42)\n",
    "X_balanced, y_balanced = oversampler.fit_resample(X, y)\n",
    "\n",
    "# Combine the resampled features and target into a new DataFrame\n",
    "df_balanced = pd.concat([X_balanced, y_balanced], axis=1)\n",
    "\n",
    "# Check for the distribution of the target variable after balancing\n",
    "print(\"Distribution after balancing:\")\n",
    "print(df_balanced['Regulatory Change'].value_counts())"
   ]
  },
  {
   "cell_type": "markdown",
   "id": "82d6d502-b106-4acd-a485-519b97bb6ae9",
   "metadata": {},
   "source": [
    "Visualizing the Balanced dataset"
   ]
  },
  {
   "cell_type": "code",
   "execution_count": 57,
   "id": "25635240-94f7-40f8-b7e7-0f9f125f4ecd",
   "metadata": {},
   "outputs": [
    {
     "name": "stderr",
     "output_type": "stream",
     "text": [
      "C:\\Users\\manas\\AppData\\Local\\Temp\\ipykernel_33512\\1531710380.py:3: FutureWarning: \n",
      "\n",
      "Passing `palette` without assigning `hue` is deprecated and will be removed in v0.14.0. Assign the `x` variable to `hue` and set `legend=False` for the same effect.\n",
      "\n",
      "  sns.countplot(data=df_balanced, x='Regulatory Change', palette='viridis')\n"
     ]
    },
    {
     "data": {
      "image/png": "[encoded data removed]",
      "text/plain": [
       "<Figure size 800x600 with 1 Axes>"
      ]
     },
     "metadata": {},
     "output_type": "display_data"
    }
   ],
   "source": [
    "# Visualize the balanced distribution\n",
    "plt.figure(figsize=(8, 6))\n",
    "sns.countplot(data=df_balanced, x='Regulatory Change', palette='viridis')\n",
    "\n",
    "# Add titles and labels\n",
    "plt.title('Balanced Distribution of Regulatory Change', fontsize=16)\n",
    "plt.xlabel('Regulatory Change', fontsize=14)\n",
    "plt.ylabel('Count', fontsize=14)\n",
    "\n",
    "# Show plot\n",
    "plt.show()"
   ]
  },
  {
   "cell_type": "markdown",
   "id": "7b1167fa-d67f-43ca-95c5-b34003e2cac0",
   "metadata": {},
   "source": [
    "Feature Engineering"
   ]
  },
  {
   "cell_type": "code",
   "execution_count": 58,
   "id": "c3b681fe-8c07-4159-a9a1-09ca24249a9c",
   "metadata": {},
   "outputs": [
    {
     "data": {
      "text/html": [
       "<div>\n",
       "<style scoped>\n",
       "    .dataframe tbody tr th:only-of-type {\n",
       "        vertical-align: middle;\n",
       "    }\n",
       "\n",
       "    .dataframe tbody tr th {\n",
       "        vertical-align: top;\n",
       "    }\n",
       "\n",
       "    .dataframe thead th {\n",
       "        text-align: right;\n",
       "    }\n",
       "</style>\n",
       "<table border=\"1\" class=\"dataframe\">\n",
       "  <thead>\n",
       "    <tr style=\"text-align: right;\">\n",
       "      <th></th>\n",
       "      <th>Date</th>\n",
       "      <th>Company ID</th>\n",
       "      <th>Revenue ($)</th>\n",
       "      <th>Expense ($)</th>\n",
       "      <th>Profit ($)</th>\n",
       "      <th>Market Price ($)</th>\n",
       "      <th>Volatility Index</th>\n",
       "      <th>Compliance Issue</th>\n",
       "      <th>Compliance Fine ($)</th>\n",
       "      <th>Regulatory Change</th>\n",
       "      <th>Profit Margin</th>\n",
       "      <th>Expense-to-Revenue Ratio</th>\n",
       "    </tr>\n",
       "  </thead>\n",
       "  <tbody>\n",
       "    <tr>\n",
       "      <th>0</th>\n",
       "      <td>2023-01-01</td>\n",
       "      <td>COMP_1</td>\n",
       "      <td>-0.418228</td>\n",
       "      <td>1.548600</td>\n",
       "      <td>-1.306903</td>\n",
       "      <td>0.796395</td>\n",
       "      <td>0.308534</td>\n",
       "      <td>0</td>\n",
       "      <td>-0.095412</td>\n",
       "      <td>0</td>\n",
       "      <td>-0.096948</td>\n",
       "      <td>0.096948</td>\n",
       "    </tr>\n",
       "    <tr>\n",
       "      <th>1</th>\n",
       "      <td>2023-01-02</td>\n",
       "      <td>COMP_1</td>\n",
       "      <td>-1.511715</td>\n",
       "      <td>1.259243</td>\n",
       "      <td>-1.974965</td>\n",
       "      <td>0.339881</td>\n",
       "      <td>0.699815</td>\n",
       "      <td>0</td>\n",
       "      <td>-0.095412</td>\n",
       "      <td>0</td>\n",
       "      <td>-2.431876</td>\n",
       "      <td>2.431876</td>\n",
       "    </tr>\n",
       "    <tr>\n",
       "      <th>2</th>\n",
       "      <td>2023-01-03</td>\n",
       "      <td>COMP_1</td>\n",
       "      <td>1.164013</td>\n",
       "      <td>-0.978704</td>\n",
       "      <td>1.526474</td>\n",
       "      <td>-1.122667</td>\n",
       "      <td>-1.126161</td>\n",
       "      <td>0</td>\n",
       "      <td>-0.095412</td>\n",
       "      <td>0</td>\n",
       "      <td>0.483078</td>\n",
       "      <td>-0.483078</td>\n",
       "    </tr>\n",
       "    <tr>\n",
       "      <th>3</th>\n",
       "      <td>2023-01-04</td>\n",
       "      <td>COMP_1</td>\n",
       "      <td>-0.219871</td>\n",
       "      <td>-0.708680</td>\n",
       "      <td>0.277855</td>\n",
       "      <td>0.377472</td>\n",
       "      <td>-1.300064</td>\n",
       "      <td>0</td>\n",
       "      <td>-0.095412</td>\n",
       "      <td>0</td>\n",
       "      <td>0.374301</td>\n",
       "      <td>-0.374301</td>\n",
       "    </tr>\n",
       "    <tr>\n",
       "      <th>4</th>\n",
       "      <td>2023-01-05</td>\n",
       "      <td>COMP_1</td>\n",
       "      <td>-0.136509</td>\n",
       "      <td>0.981997</td>\n",
       "      <td>-0.728526</td>\n",
       "      <td>-1.060274</td>\n",
       "      <td>0.004205</td>\n",
       "      <td>0</td>\n",
       "      <td>-0.095412</td>\n",
       "      <td>0</td>\n",
       "      <td>0.106968</td>\n",
       "      <td>-0.106968</td>\n",
       "    </tr>\n",
       "  </tbody>\n",
       "</table>\n",
       "</div>"
      ],
      "text/plain": [
       "         Date Company ID  Revenue ($)  Expense ($)  Profit ($)  \\\n",
       "0  2023-01-01     COMP_1    -0.418228     1.548600   -1.306903   \n",
       "1  2023-01-02     COMP_1    -1.511715     1.259243   -1.974965   \n",
       "2  2023-01-03     COMP_1     1.164013    -0.978704    1.526474   \n",
       "3  2023-01-04     COMP_1    -0.219871    -0.708680    0.277855   \n",
       "4  2023-01-05     COMP_1    -0.136509     0.981997   -0.728526   \n",
       "\n",
       "   Market Price ($)  Volatility Index  Compliance Issue  Compliance Fine ($)  \\\n",
       "0          0.796395          0.308534                 0            -0.095412   \n",
       "1          0.339881          0.699815                 0            -0.095412   \n",
       "2         -1.122667         -1.126161                 0            -0.095412   \n",
       "3          0.377472         -1.300064                 0            -0.095412   \n",
       "4         -1.060274          0.004205                 0            -0.095412   \n",
       "\n",
       "   Regulatory Change  Profit Margin  Expense-to-Revenue Ratio  \n",
       "0                  0      -0.096948                  0.096948  \n",
       "1                  0      -2.431876                  2.431876  \n",
       "2                  0       0.483078                 -0.483078  \n",
       "3                  0       0.374301                 -0.374301  \n",
       "4                  0       0.106968                 -0.106968  "
      ]
     },
     "execution_count": 58,
     "metadata": {},
     "output_type": "execute_result"
    }
   ],
   "source": [
    "# Generate Profit Margin and Expense-to-Revenue Ratio\n",
    "df_balanced['Profit Margin'] = df_balanced['Profit ($)'] / df_balanced['Revenue ($)']\n",
    "df_balanced['Expense-to-Revenue Ratio'] = df_balanced['Expense ($)'] / df_balanced['Revenue ($)']\n",
    "\n",
    "# Scaling the numerical features\n",
    "columns_to_scale = ['Revenue ($)', 'Expense ($)', 'Profit ($)', 'Market Price ($)', 'Volatility Index', \n",
    "                    'Compliance Fine ($)', 'Profit Margin', 'Expense-to-Revenue Ratio']\n",
    "\n",
    "scaler = StandardScaler()\n",
    "df_balanced[columns_to_scale] = scaler.fit_transform(df_balanced[columns_to_scale])\n",
    "\n",
    "# Display the first few rows to confirm changes\n",
    "df_balanced.head()"
   ]
  },
  {
   "cell_type": "markdown",
   "id": "7244b968-d89e-40a2-8eb6-14011c4523d2",
   "metadata": {},
   "source": [
    "Removing unnecessary columns"
   ]
  },
  {
   "cell_type": "code",
   "execution_count": 59,
   "id": "331806ea-4292-4b34-b2bf-a9a0ea46c4fc",
   "metadata": {},
   "outputs": [
    {
     "name": "stdout",
     "output_type": "stream",
     "text": [
      "Remaining columns for model building:\n",
      "Index(['Revenue ($)', 'Expense ($)', 'Profit ($)', 'Market Price ($)',\n",
      "       'Volatility Index', 'Compliance Issue', 'Compliance Fine ($)',\n",
      "       'Regulatory Change', 'Profit Margin', 'Expense-to-Revenue Ratio'],\n",
      "      dtype='object')\n"
     ]
    }
   ],
   "source": [
    "# Remove unnecessary columns\n",
    "columns_to_drop = ['Date', 'Company ID']\n",
    "df_balanced = df_balanced.drop(columns=columns_to_drop)\n",
    "\n",
    "# Display the remaining columns to confirm\n",
    "print(\"Remaining columns for model building:\")\n",
    "print(df_balanced.columns)"
   ]
  },
  {
   "cell_type": "markdown",
   "id": "3cb61b10-9f08-4609-9840-e35a9e55ffc1",
   "metadata": {},
   "source": [
    "Model Evaluation: Logistic Regression"
   ]
  },
  {
   "cell_type": "code",
   "execution_count": 60,
   "id": "084cfcd8-3960-41ec-b8a2-18a1a4b3a762",
   "metadata": {},
   "outputs": [
    {
     "name": "stdout",
     "output_type": "stream",
     "text": [
      "Logistic Regression Performance:\n",
      "Accuracy: 0.5136\n",
      "Precision: 0.5126\n",
      "Recall: 0.5123\n",
      "F1 Score: 0.5125\n"
     ]
    },
    {
     "data": {
      "image/png": "[encoded data removed]",
      "text/plain": [
       "<Figure size 600x500 with 1 Axes>"
      ]
     },
     "metadata": {},
     "output_type": "display_data"
    },
    {
     "name": "stdout",
     "output_type": "stream",
     "text": [
      "\n",
      "Classification Report for Logistic Regression:\n",
      "              precision    recall  f1-score   support\n",
      "\n",
      "           0       0.51      0.51      0.51      7168\n",
      "           1       0.51      0.51      0.51      7140\n",
      "\n",
      "    accuracy                           0.51     14308\n",
      "   macro avg       0.51      0.51      0.51     14308\n",
      "weighted avg       0.51      0.51      0.51     14308\n",
      "\n"
     ]
    }
   ],
   "source": [
    "# df_balanced is already defined\n",
    "X = df_balanced.drop(columns=['Regulatory Change'])\n",
    "y = df_balanced['Regulatory Change']\n",
    "\n",
    "# Split the dataset into training and testing sets\n",
    "X_train, X_test, y_train, y_test = train_test_split(X, y, test_size=0.2, random_state=42)\n",
    "\n",
    "# Logistic Regression model\n",
    "lr_model = LogisticRegression(random_state=42)\n",
    "lr_model.fit(X_train, y_train)\n",
    "y_pred_lr = lr_model.predict(X_test)\n",
    "\n",
    "# Calculate metrics for Logistic Regression\n",
    "lr_accuracy = accuracy_score(y_test, y_pred_lr)\n",
    "lr_precision = precision_score(y_test, y_pred_lr)\n",
    "lr_recall = recall_score(y_test, y_pred_lr)\n",
    "lr_f1 = f1_score(y_test, y_pred_lr)\n",
    "\n",
    "# Print metrics\n",
    "print(\"Logistic Regression Performance:\")\n",
    "print(f\"Accuracy: {lr_accuracy:.4f}\")\n",
    "print(f\"Precision: {lr_precision:.4f}\")\n",
    "print(f\"Recall: {lr_recall:.4f}\")\n",
    "print(f\"F1 Score: {lr_f1:.4f}\")\n",
    "\n",
    "# Confusion matrix\n",
    "plt.figure(figsize=(6, 5))\n",
    "sns.heatmap(confusion_matrix(y_test, y_pred_lr), annot=True, fmt=\"d\", cmap=\"Blues\", cbar=False)\n",
    "plt.title(\"Logistic Regression Confusion Matrix\")\n",
    "plt.xlabel(\"Predicted\")\n",
    "plt.ylabel(\"Actual\")\n",
    "plt.show()\n",
    "\n",
    "# Classification report\n",
    "print(\"\\nClassification Report for Logistic Regression:\")\n",
    "print(classification_report(y_test, y_pred_lr))\n"
   ]
  },
  {
   "cell_type": "markdown",
   "id": "ddc546f8-b509-438e-a1a8-e176d884c73f",
   "metadata": {},
   "source": [
    "Model Evaluation: Random Forest"
   ]
  },
  {
   "cell_type": "code",
   "execution_count": 61,
   "id": "8f255de9-5321-4d78-be42-b2f6a32825ed",
   "metadata": {},
   "outputs": [
    {
     "name": "stdout",
     "output_type": "stream",
     "text": [
      "Random Forest Performance:\n",
      "Accuracy: 0.9998\n",
      "Precision: 0.9996\n",
      "Recall: 1.0000\n",
      "F1 Score: 0.9998\n"
     ]
    },
    {
     "data": {
      "image/png": "[encoded data removed]",
      "text/plain": [
       "<Figure size 600x500 with 1 Axes>"
      ]
     },
     "metadata": {},
     "output_type": "display_data"
    },
    {
     "name": "stdout",
     "output_type": "stream",
     "text": [
      "\n",
      "Classification Report for Random Forest:\n",
      "              precision    recall  f1-score   support\n",
      "\n",
      "           0       1.00      1.00      1.00      7168\n",
      "           1       1.00      1.00      1.00      7140\n",
      "\n",
      "    accuracy                           1.00     14308\n",
      "   macro avg       1.00      1.00      1.00     14308\n",
      "weighted avg       1.00      1.00      1.00     14308\n",
      "\n"
     ]
    }
   ],
   "source": [
    "# 'Regulatory Change' is the target variable\n",
    "X = df_balanced.drop(columns=['Regulatory Change'])\n",
    "y = df_balanced['Regulatory Change']\n",
    "\n",
    "# Split the dataset into training and testing sets\n",
    "X_train, X_test, y_train, y_test = train_test_split(X, y, test_size=0.2, random_state=42)\n",
    "\n",
    "# Random Forest model\n",
    "rf_model = RandomForestClassifier(random_state=42)\n",
    "rf_model.fit(X_train, y_train)\n",
    "y_pred_rf = rf_model.predict(X_test)\n",
    "\n",
    "# Calculate metrics for Random Forest\n",
    "rf_accuracy = accuracy_score(y_test, y_pred_rf)\n",
    "rf_precision = precision_score(y_test, y_pred_rf)\n",
    "rf_recall = recall_score(y_test, y_pred_rf)\n",
    "rf_f1 = f1_score(y_test, y_pred_rf)\n",
    "\n",
    "# Print metrics\n",
    "print(\"Random Forest Performance:\")\n",
    "print(f\"Accuracy: {rf_accuracy:.4f}\")\n",
    "print(f\"Precision: {rf_precision:.4f}\")\n",
    "print(f\"Recall: {rf_recall:.4f}\")\n",
    "print(f\"F1 Score: {rf_f1:.4f}\")\n",
    "\n",
    "# Confusion matrix\n",
    "plt.figure(figsize=(6, 5))\n",
    "sns.heatmap(confusion_matrix(y_test, y_pred_rf), annot=True, fmt=\"d\", cmap=\"Blues\", cbar=False)\n",
    "plt.title(\"Random Forest Confusion Matrix\")\n",
    "plt.xlabel(\"Predicted\")\n",
    "plt.ylabel(\"Actual\")\n",
    "plt.show()\n",
    "# Classification report\n",
    "print(\"\\nClassification Report for Random Forest:\")\n",
    "print(classification_report(y_test, y_pred_rf))"
   ]
  },
  {
   "cell_type": "markdown",
   "id": "7647d347-8550-4fed-b69e-53213fb4724d",
   "metadata": {},
   "source": [
    "Model Evaluation: Naive Bayes Model"
   ]
  },
  {
   "cell_type": "code",
   "execution_count": 62,
   "id": "5d206fc9-c650-4636-b29a-1fb344b3a2f0",
   "metadata": {},
   "outputs": [
    {
     "name": "stdout",
     "output_type": "stream",
     "text": [
      "Naive Bayes Performance:\n",
      "Accuracy: 0.5128\n",
      "Precision: 0.5369\n",
      "Recall: 0.1720\n",
      "F1 Score: 0.2605\n"
     ]
    },
    {
     "data": {
      "image/png": "[encoded data removed]",
      "text/plain": [
       "<Figure size 600x500 with 1 Axes>"
      ]
     },
     "metadata": {},
     "output_type": "display_data"
    },
    {
     "name": "stdout",
     "output_type": "stream",
     "text": [
      "\n",
      "Classification Report for Naive Bayes:\n",
      "              precision    recall  f1-score   support\n",
      "\n",
      "           0       0.51      0.85      0.64      7168\n",
      "           1       0.54      0.17      0.26      7140\n",
      "\n",
      "    accuracy                           0.51     14308\n",
      "   macro avg       0.52      0.51      0.45     14308\n",
      "weighted avg       0.52      0.51      0.45     14308\n",
      "\n"
     ]
    }
   ],
   "source": [
    "# Naive Bayes model\n",
    "nb_model = GaussianNB()\n",
    "nb_model.fit(X_train, y_train)\n",
    "y_pred_nb = nb_model.predict(X_test)\n",
    "\n",
    "# Calculate metrics for Naive Bayes\n",
    "nb_accuracy = accuracy_score(y_test, y_pred_nb)\n",
    "nb_precision = precision_score(y_test, y_pred_nb)\n",
    "nb_recall = recall_score(y_test, y_pred_nb)\n",
    "nb_f1 = f1_score(y_test, y_pred_nb)\n",
    "\n",
    "# Print metrics\n",
    "print(\"Naive Bayes Performance:\")\n",
    "print(f\"Accuracy: {nb_accuracy:.4f}\")\n",
    "print(f\"Precision: {nb_precision:.4f}\")\n",
    "print(f\"Recall: {nb_recall:.4f}\")\n",
    "print(f\"F1 Score: {nb_f1:.4f}\")\n",
    "\n",
    "# Confusion matrix\n",
    "plt.figure(figsize=(6, 5))\n",
    "sns.heatmap(confusion_matrix(y_test, y_pred_nb), annot=True, fmt=\"d\", cmap=\"Blues\", cbar=False)\n",
    "plt.title(\"Naive Bayes Confusion Matrix\")\n",
    "plt.xlabel(\"Predicted\")\n",
    "plt.ylabel(\"Actual\")\n",
    "plt.show()\n",
    "\n",
    "# Classification report\n",
    "print(\"\\nClassification Report for Naive Bayes:\")\n",
    "print(classification_report(y_test, y_pred_nb))\n"
   ]
  },
  {
   "cell_type": "markdown",
   "id": "5d84e83d-64f1-40f7-9057-4cfd43ed2ceb",
   "metadata": {},
   "source": [
    "Model Evaluation: Decision Tree"
   ]
  },
  {
   "cell_type": "code",
   "execution_count": 65,
   "id": "7d0e8602-896a-492e-87bb-1f33d9272ee9",
   "metadata": {},
   "outputs": [
    {
     "name": "stdout",
     "output_type": "stream",
     "text": [
      "Decision Tree Performance:\n",
      "Accuracy: 0.9864\n",
      "Precision: 0.9734\n",
      "Recall: 1.0000\n",
      "F1 Score: 0.9865\n"
     ]
    },
    {
     "data": {
      "image/png": "[encoded data removed]",
      "text/plain": [
       "<Figure size 600x500 with 1 Axes>"
      ]
     },
     "metadata": {},
     "output_type": "display_data"
    },
    {
     "name": "stdout",
     "output_type": "stream",
     "text": [
      "\n",
      "Classification Report for Decision Tree:\n",
      "              precision    recall  f1-score   support\n",
      "\n",
      "           0       1.00      0.97      0.99      7168\n",
      "           1       0.97      1.00      0.99      7140\n",
      "\n",
      "    accuracy                           0.99     14308\n",
      "   macro avg       0.99      0.99      0.99     14308\n",
      "weighted avg       0.99      0.99      0.99     14308\n",
      "\n"
     ]
    }
   ],
   "source": [
    "# Decision Tree model\n",
    "dt_model = DecisionTreeClassifier(random_state=42)\n",
    "dt_model.fit(X_train, y_train)\n",
    "y_pred_dt = dt_model.predict(X_test)\n",
    "\n",
    "# Calculate metrics for Decision Tree\n",
    "dt_accuracy = accuracy_score(y_test, y_pred_dt)\n",
    "dt_precision = precision_score(y_test, y_pred_dt)\n",
    "dt_recall = recall_score(y_test, y_pred_dt)\n",
    "dt_f1 = f1_score(y_test, y_pred_dt)\n",
    "\n",
    "# Print metrics\n",
    "print(\"Decision Tree Performance:\")\n",
    "print(f\"Accuracy: {dt_accuracy:.4f}\")\n",
    "print(f\"Precision: {dt_precision:.4f}\")\n",
    "print(f\"Recall: {dt_recall:.4f}\")\n",
    "print(f\"F1 Score: {dt_f1:.4f}\")\n",
    "\n",
    "# Confusion matrix\n",
    "plt.figure(figsize=(6, 5))\n",
    "sns.heatmap(confusion_matrix(y_test, y_pred_dt), annot=True, fmt=\"d\", cmap=\"Blues\", cbar=False)\n",
    "plt.title(\"Decision Tree Confusion Matrix\")\n",
    "plt.xlabel(\"Predicted\")\n",
    "plt.ylabel(\"Actual\")\n",
    "plt.show()\n",
    "\n",
    "# Classification report\n",
    "print(\"\\nClassification Report for Decision Tree:\")\n",
    "print(classification_report(y_test, y_pred_dt))\n"
   ]
  },
  {
   "cell_type": "markdown",
   "id": "7446d41f-82aa-4e47-ba71-1813a342996e",
   "metadata": {},
   "source": [
    "Hyper Parameter Tuning"
   ]
  },
  {
   "cell_type": "code",
   "execution_count": 64,
   "id": "feb8101a-e90a-4a5a-a4fe-6b55e67c0266",
   "metadata": {},
   "outputs": [
    {
     "name": "stdout",
     "output_type": "stream",
     "text": [
      "Fitting 5 folds for each of 432 candidates, totalling 2160 fits\n",
      "Best Hyperparameters: {'criterion': 'gini', 'max_depth': None, 'max_features': 'sqrt', 'min_samples_leaf': 1, 'min_samples_split': 2, 'splitter': 'best'}\n",
      "Best Cross-Validation Accuracy: 0.9851\n",
      "Tuned Decision Tree Accuracy: 0.9897\n",
      "\n",
      "Classification Report for Tuned Decision Tree:\n",
      "              precision    recall  f1-score   support\n",
      "\n",
      "           0       1.00      0.98      0.99      7168\n",
      "           1       0.98      1.00      0.99      7140\n",
      "\n",
      "    accuracy                           0.99     14308\n",
      "   macro avg       0.99      0.99      0.99     14308\n",
      "weighted avg       0.99      0.99      0.99     14308\n",
      "\n"
     ]
    },
    {
     "data": {
      "image/png": "[encoded data removed]",
      "text/plain": [
       "<Figure size 600x500 with 1 Axes>"
      ]
     },
     "metadata": {},
     "output_type": "display_data"
    }
   ],
   "source": [
    "# Explain the parameter grid for hyperparameter tuning\n",
    "param_grid = {\n",
    "    'criterion': ['gini', 'entropy'],  \n",
    "    'max_depth': [None, 10, 20, 30],   \n",
    "    'min_samples_split': [2, 5, 10],   \n",
    "    'min_samples_leaf': [1, 2, 4],     \n",
    "    'max_features': [None, 'sqrt', 'log2'],  \n",
    "    'splitter': ['best', 'random'],   \n",
    "}\n",
    "\n",
    "# Start with Decision Tree classifier\n",
    "dt_model = DecisionTreeClassifier(random_state=42)\n",
    "\n",
    "# Put up GridSearchCV with 5-fold cross-validation\n",
    "grid_search = GridSearchCV(estimator=dt_model, param_grid=param_grid, \n",
    "                           cv=5, n_jobs=-1, verbose=2, scoring='accuracy')\n",
    "\n",
    "# Fit the model with hyperparameter tuning\n",
    "grid_search.fit(X_train, y_train)\n",
    "\n",
    "# Obtain the best hyperparameters and best score\n",
    "print(f\"Best Hyperparameters: {grid_search.best_params_}\")\n",
    "print(f\"Best Cross-Validation Accuracy: {grid_search.best_score_:.4f}\")\n",
    "\n",
    "# Estimate using the best model\n",
    "y_pred_dt_tuned = grid_search.best_estimator_.predict(X_test)\n",
    "\n",
    "# Calculate metrics for the tuned Decision Tree model\n",
    "dt_accuracy = accuracy_score(y_test, y_pred_dt_tuned)\n",
    "print(f\"Tuned Decision Tree Accuracy: {dt_accuracy:.4f}\")\n",
    "\n",
    "# Print the classification report\n",
    "print(\"\\nClassification Report for Tuned Decision Tree:\")\n",
    "print(classification_report(y_test, y_pred_dt_tuned))\n",
    "\n",
    "# Confusion Matrix\n",
    "plt.figure(figsize=(6, 5))\n",
    "sns.heatmap(confusion_matrix(y_test, y_pred_dt_tuned), annot=True, fmt=\"d\", cmap=\"Blues\", cbar=False)\n",
    "plt.title(\"Tuned Decision Tree Confusion Matrix\")\n",
    "plt.xlabel(\"Predicted\")\n",
    "plt.ylabel(\"Actual\")\n",
    "plt.show()\n"
   ]
  }
 ],
 "metadata": {
  "kernelspec": {
   "display_name": "Python 3 (ipykernel)",
   "language": "python",
   "name": "python3"
  },
  "language_info": {
   "codemirror_mode": {
    "name": "ipython",
    "version": 3
   },
   "file_extension": ".py",
   "mimetype": "text/x-python",
   "name": "python",
   "nbconvert_exporter": "python",
   "pygments_lexer": "ipython3",
   "version": "3.12.4"
  }
 },
 "nbformat": 4,
 "nbformat_minor": 5
}
